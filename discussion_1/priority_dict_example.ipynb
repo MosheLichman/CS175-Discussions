{
 "cells": [
  {
   "cell_type": "markdown",
   "metadata": {},
   "source": [
    "### Simple example of how to use the priority dict \"library\"\n",
    "First import the class from the file -- I use PQueue as an alias to hint that it is used as a priority queue.\n",
    "\n",
    "This class extends the regular python dict class and just add few methods that allow it to be used a priority queue."
   ]
  },
  {
   "cell_type": "code",
   "execution_count": 1,
   "metadata": {
    "collapsed": true
   },
   "outputs": [],
   "source": [
    "from priority_dict import priorityDictionary as PQueue"
   ]
  },
  {
   "cell_type": "markdown",
   "metadata": {},
   "source": [
    "The instantiation is done with no arguments."
   ]
  },
  {
   "cell_type": "code",
   "execution_count": 2,
   "metadata": {
    "collapsed": true
   },
   "outputs": [],
   "source": [
    "pqueue = PQueue()"
   ]
  },
  {
   "cell_type": "markdown",
   "metadata": {},
   "source": [
    "Insert, update, look_up, iteration and delete are all done in the same way as a regular dictionary. The value is used as the priority of the object (the key)."
   ]
  },
  {
   "cell_type": "code",
   "execution_count": 4,
   "metadata": {
    "collapsed": false
   },
   "outputs": [
    {
     "name": "stdout",
     "output_type": "stream",
     "text": [
      "0\n",
      "10\n",
      "obj_2 10\n",
      "obj_1 0\n",
      "obj_1 0\n"
     ]
    }
   ],
   "source": [
    "# Inserting\n",
    "pqueue['obj_1'] = 0\n",
    "pqueue['obj_2'] = 1\n",
    "\n",
    "# Look_up\n",
    "print pqueue['obj_1']\n",
    "\n",
    "# Update\n",
    "pqueue['obj_2'] = 10\n",
    "print pqueue['obj_2']\n",
    "\n",
    "# Iteration\n",
    "for obj, priority in pqueue.items():\n",
    "    print obj, priority\n",
    "\n",
    "# Deleting and iterating over the values -- making sure 'obj_2' was deleted.\n",
    "del pqueue['obj_2']\n",
    "for obj, priority in pqueue.items():\n",
    "    print obj, priority\n",
    "    \n",
    "# Adding obj_2 back\n",
    "pqueue['obj_2'] = 1    "
   ]
  },
  {
   "cell_type": "markdown",
   "metadata": {},
   "source": [
    "To get the currety min value in the queue, we use the method smallest(). This will retrieve the object (key) with the smallest prioriy (value)."
   ]
  },
  {
   "cell_type": "code",
   "execution_count": 5,
   "metadata": {
    "collapsed": false
   },
   "outputs": [
    {
     "name": "stdout",
     "output_type": "stream",
     "text": [
      "obj_1\n"
     ]
    }
   ],
   "source": [
    "print pqueue.smallest()"
   ]
  },
  {
   "cell_type": "markdown",
   "metadata": {},
   "source": [
    "Notice that it will not remove it so when called again it will return the same object."
   ]
  },
  {
   "cell_type": "code",
   "execution_count": 6,
   "metadata": {
    "collapsed": false
   },
   "outputs": [
    {
     "name": "stdout",
     "output_type": "stream",
     "text": [
      "obj_1\n"
     ]
    }
   ],
   "source": [
    "print pqueue.smallest()"
   ]
  },
  {
   "cell_type": "markdown",
   "metadata": {},
   "source": [
    "To perform extract_min, we have to do two operations:\n",
    "1. Get the smallest object.\n",
    "2. Delete it from the queue.\n",
    "\n",
    "We can do this with a utility function extract_min"
   ]
  },
  {
   "cell_type": "code",
   "execution_count": 7,
   "metadata": {
    "collapsed": true
   },
   "outputs": [],
   "source": [
    "def extract_min(queue):\n",
    "    \"\"\"\n",
    "    Utility function -- returns the key with the min value and removes it from the queue.\n",
    "\n",
    "    Args\n",
    "        queue:  <priority queue object> queue to extract min from\n",
    "\n",
    "    Returns\n",
    "        key with the smallest value or None if the queue is empty.\n",
    "    \"\"\"\n",
    "    if len(queue) == 0:\n",
    "        return None\n",
    "\n",
    "    val = queue.smallest()\n",
    "    del queue[val]\n",
    "\n",
    "    return val"
   ]
  },
  {
   "cell_type": "markdown",
   "metadata": {},
   "source": [
    "And now to see that it in actions."
   ]
  },
  {
   "cell_type": "code",
   "execution_count": 8,
   "metadata": {
    "collapsed": false
   },
   "outputs": [
    {
     "name": "stdout",
     "output_type": "stream",
     "text": [
      "obj_1\n",
      "obj_2\n",
      "None\n"
     ]
    }
   ],
   "source": [
    "print extract_min(pqueue)   # Prints obj_1\n",
    "print extract_min(pqueue)   # Prints obj_2\n",
    "print extract_min(pqueue)   # Prints None because the queue is empty"
   ]
  }
 ],
 "metadata": {
  "kernelspec": {
   "display_name": "Python 2",
   "language": "python",
   "name": "python2"
  },
  "language_info": {
   "codemirror_mode": {
    "name": "ipython",
    "version": 2
   },
   "file_extension": ".py",
   "mimetype": "text/x-python",
   "name": "python",
   "nbconvert_exporter": "python",
   "pygments_lexer": "ipython2",
   "version": "2.7.12"
  }
 },
 "nbformat": 4,
 "nbformat_minor": 0
}
